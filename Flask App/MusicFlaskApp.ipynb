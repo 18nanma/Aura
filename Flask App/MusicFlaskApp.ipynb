{
  "nbformat": 4,
  "nbformat_minor": 0,
  "metadata": {
    "colab": {
      "name": "MusicFlaskApp.ipynb",
      "provenance": [],
      "collapsed_sections": []
    },
    "kernelspec": {
      "display_name": "Python 3",
      "language": "python",
      "name": "python3"
    },
    "language_info": {
      "codemirror_mode": {
        "name": "ipython",
        "version": 3
      },
      "file_extension": ".py",
      "mimetype": "text/x-python",
      "name": "python",
      "nbconvert_exporter": "python",
      "pygments_lexer": "ipython3",
      "version": "3.8.8"
    }
  },
  "cells": [
    {
      "cell_type": "code",
      "metadata": {
        "colab": {
          "base_uri": "https://localhost:8080/"
        },
        "id": "3VutRup2lXvP",
        "outputId": "a03326d0-b0eb-475e-8cee-e13415ac9198"
      },
      "source": [
        "from google.colab import drive\n",
        "drive.mount('/content/drive')"
      ],
      "execution_count": null,
      "outputs": [
        {
          "output_type": "stream",
          "text": [
            "Drive already mounted at /content/drive; to attempt to forcibly remount, call drive.mount(\"/content/drive\", force_remount=True).\n"
          ],
          "name": "stdout"
        }
      ]
    },
    {
      "cell_type": "code",
      "metadata": {
        "colab": {
          "base_uri": "https://localhost:8080/"
        },
        "id": "MsFzWG84uIoG",
        "outputId": "92e7e34b-21d2-4a09-c5d7-306b9855f3d2"
      },
      "source": [
        "!pip install flask-ngrok"
      ],
      "execution_count": null,
      "outputs": [
        {
          "output_type": "stream",
          "text": [
            "Requirement already satisfied: flask-ngrok in /usr/local/lib/python3.7/dist-packages (0.0.25)\n",
            "Requirement already satisfied: Flask>=0.8 in /usr/local/lib/python3.7/dist-packages (from flask-ngrok) (1.1.4)\n",
            "Requirement already satisfied: requests in /usr/local/lib/python3.7/dist-packages (from flask-ngrok) (2.23.0)\n",
            "Requirement already satisfied: Werkzeug<2.0,>=0.15 in /usr/local/lib/python3.7/dist-packages (from Flask>=0.8->flask-ngrok) (1.0.1)\n",
            "Requirement already satisfied: click<8.0,>=5.1 in /usr/local/lib/python3.7/dist-packages (from Flask>=0.8->flask-ngrok) (7.1.2)\n",
            "Requirement already satisfied: Jinja2<3.0,>=2.10.1 in /usr/local/lib/python3.7/dist-packages (from Flask>=0.8->flask-ngrok) (2.11.3)\n",
            "Requirement already satisfied: itsdangerous<2.0,>=0.24 in /usr/local/lib/python3.7/dist-packages (from Flask>=0.8->flask-ngrok) (1.1.0)\n",
            "Requirement already satisfied: chardet<4,>=3.0.2 in /usr/local/lib/python3.7/dist-packages (from requests->flask-ngrok) (3.0.4)\n",
            "Requirement already satisfied: urllib3!=1.25.0,!=1.25.1,<1.26,>=1.21.1 in /usr/local/lib/python3.7/dist-packages (from requests->flask-ngrok) (1.24.3)\n",
            "Requirement already satisfied: certifi>=2017.4.17 in /usr/local/lib/python3.7/dist-packages (from requests->flask-ngrok) (2020.12.5)\n",
            "Requirement already satisfied: idna<3,>=2.5 in /usr/local/lib/python3.7/dist-packages (from requests->flask-ngrok) (2.10)\n",
            "Requirement already satisfied: MarkupSafe>=0.23 in /usr/local/lib/python3.7/dist-packages (from Jinja2<3.0,>=2.10.1->Flask>=0.8->flask-ngrok) (2.0.1)\n"
          ],
          "name": "stdout"
        }
      ]
    },
    {
      "cell_type": "code",
      "metadata": {
        "colab": {
          "base_uri": "https://localhost:8080/"
        },
        "id": "d5MueSeXZsGH",
        "outputId": "4925819d-6967-4c64-d872-7fd925e3eeda"
      },
      "source": [
        "import flask\n",
        "import werkzeug\n",
        "import keras.models\n",
        "import numpy\n",
        "import scipy.misc\n",
        "import imageio\n",
        "import cv2\n",
        "from flask_ngrok import run_with_ngrok\n",
        "import numpy as np\n",
        "import pandas as pd\n",
        "from collections import defaultdict\n",
        "\n",
        "app = flask.Flask(__name__)\n",
        "run_with_ngrok(app)\n",
        "\n",
        "\n",
        "@app.route('/', methods=['GET', 'POST'])\n",
        "def handle_request():\n",
        "    emotion = flask.request.args.get('emotion')\n",
        "    df = pd.read_pickle(\"/content/drive/MyDrive/Aura/dataframe\")\n",
        "    emotions=['Angry','Surprise','Neutral','Happy','Sad']\n",
        "    emotion_code = emotions.index(emotion)\n",
        "    NUM_RECOMMEND=10\n",
        "    happy_set=[]\n",
        "    sad_set=[]\n",
        "    angry_set=[]\n",
        "    neutral_set=[]\n",
        "    surprise_set=[]\n",
        "    happy_dict = defaultdict(list)\n",
        "    sad_dict = defaultdict(list)\n",
        "    angry_dict = defaultdict(list)\n",
        "    neutral_dict = defaultdict(list)\n",
        "    surprise_dict = defaultdict(list)\n",
        "    if emotion_code==0:\n",
        "        data_frame = df[df['kmeans']==0]['song_name'].head(NUM_RECOMMEND)\n",
        "        for ind in data_frame.index:\n",
        "          angry_set.append(df['song_name'][ind])\n",
        "        rec=\"\"\n",
        "        for s in angry_set:\n",
        "            rec = rec+\"^\"+s\n",
        "        rec = rec[1:]\n",
        "        return rec\n",
        "    elif emotion_code==1:\n",
        "        data_frame = df[df['kmeans']==1]['song_name'].head(NUM_RECOMMEND)\n",
        "        for ind in data_frame.index:\n",
        "          surprise_set.append(df['song_name'][ind])\n",
        "        rec=\"\"\n",
        "        for s in surprise_set:\n",
        "            rec = rec+\"^\"+s\n",
        "        rec = rec[1:]\n",
        "        return rec\n",
        "    elif emotion_code==2:\n",
        "        data_frame = df[df['kmeans']==2]['song_name'].head(NUM_RECOMMEND)\n",
        "        for ind in data_frame.index:\n",
        "          neutral_set.append(df['song_name'][ind])\n",
        "        rec=\"\"\n",
        "        for s in neutral_set:\n",
        "            rec = rec+\"^\"+s\n",
        "        rec = rec[1:]\n",
        "        return rec\n",
        "    elif emotion_code==3:\n",
        "        data_frame = df[df['kmeans']==3]['song_name'].head(NUM_RECOMMEND)\n",
        "        for ind in data_frame.index:\n",
        "          happy_set.append(df['song_name'][ind])\n",
        "        rec=\"\"\n",
        "        for s in happy_set:\n",
        "            rec = rec+\"^\"+s\n",
        "        rec = rec[1:]\n",
        "        return rec\n",
        "    else:\n",
        "        data_frame = df[df['kmeans']==4]['song_name'].head(NUM_RECOMMEND)\n",
        "        for ind in data_frame.index:\n",
        "          sad_set.append(df['song_name'][ind])\n",
        "        rec=\"\"\n",
        "        for s in sad_set:\n",
        "            rec = rec+\"^\"+s\n",
        "        rec = rec[1:]\n",
        "        return rec\n",
        "    \n",
        "    \n",
        "app.run()"
      ],
      "execution_count": null,
      "outputs": [
        {
          "output_type": "stream",
          "text": [
            " * Serving Flask app \"__main__\" (lazy loading)\n",
            " * Environment: production\n",
            "\u001b[31m   WARNING: This is a development server. Do not use it in a production deployment.\u001b[0m\n",
            "\u001b[2m   Use a production WSGI server instead.\u001b[0m\n",
            " * Debug mode: off\n"
          ],
          "name": "stdout"
        },
        {
          "output_type": "stream",
          "text": [
            " * Running on http://127.0.0.1:5000/ (Press CTRL+C to quit)\n"
          ],
          "name": "stderr"
        },
        {
          "output_type": "stream",
          "text": [
            " * Running on http://bcec3655f047.ngrok.io\n",
            " * Traffic stats available on http://127.0.0.1:4040\n"
          ],
          "name": "stdout"
        },
        {
          "output_type": "stream",
          "text": [
            "127.0.0.1 - - [07/Jun/2021 07:35:22] \"\u001b[37mGET /?emotion=Happy HTTP/1.1\u001b[0m\" 200 -\n"
          ],
          "name": "stderr"
        }
      ]
    },
    {
      "cell_type": "code",
      "metadata": {
        "id": "rN054ZeyZsGH"
      },
      "source": [
        ""
      ],
      "execution_count": null,
      "outputs": []
    }
  ]
}