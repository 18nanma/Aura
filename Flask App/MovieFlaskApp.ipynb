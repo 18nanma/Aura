{
  "nbformat": 4,
  "nbformat_minor": 0,
  "metadata": {
    "kernelspec": {
      "display_name": "Python 3",
      "language": "python",
      "name": "python3"
    },
    "language_info": {
      "codemirror_mode": {
        "name": "ipython",
        "version": 3
      },
      "file_extension": ".py",
      "mimetype": "text/x-python",
      "name": "python",
      "nbconvert_exporter": "python",
      "pygments_lexer": "ipython3",
      "version": "3.8.8"
    },
    "colab": {
      "name": "MovieFlaskApp.ipynb",
      "provenance": [],
      "collapsed_sections": []
    }
  },
  "cells": [
    {
      "cell_type": "code",
      "metadata": {
        "colab": {
          "base_uri": "https://localhost:8080/"
        },
        "id": "3VutRup2lXvP",
        "outputId": "dc082baa-f488-40fd-e0f4-8795994f78b4"
      },
      "source": [
        "from google.colab import drive\n",
        "drive.mount('/content/drive')"
      ],
      "execution_count": null,
      "outputs": [
        {
          "output_type": "stream",
          "text": [
            "Drive already mounted at /content/drive; to attempt to forcibly remount, call drive.mount(\"/content/drive\", force_remount=True).\n"
          ],
          "name": "stdout"
        }
      ]
    },
    {
      "cell_type": "code",
      "metadata": {
        "colab": {
          "base_uri": "https://localhost:8080/"
        },
        "id": "MsFzWG84uIoG",
        "outputId": "5b6f6a9e-1a5e-4694-a41c-4b030c3f9fac"
      },
      "source": [
        "!pip install flask-ngrok"
      ],
      "execution_count": null,
      "outputs": [
        {
          "output_type": "stream",
          "text": [
            "Requirement already satisfied: flask-ngrok in /usr/local/lib/python3.7/dist-packages (0.0.25)\n",
            "Requirement already satisfied: requests in /usr/local/lib/python3.7/dist-packages (from flask-ngrok) (2.23.0)\n",
            "Requirement already satisfied: Flask>=0.8 in /usr/local/lib/python3.7/dist-packages (from flask-ngrok) (1.1.4)\n",
            "Requirement already satisfied: certifi>=2017.4.17 in /usr/local/lib/python3.7/dist-packages (from requests->flask-ngrok) (2020.12.5)\n",
            "Requirement already satisfied: idna<3,>=2.5 in /usr/local/lib/python3.7/dist-packages (from requests->flask-ngrok) (2.10)\n",
            "Requirement already satisfied: urllib3!=1.25.0,!=1.25.1,<1.26,>=1.21.1 in /usr/local/lib/python3.7/dist-packages (from requests->flask-ngrok) (1.24.3)\n",
            "Requirement already satisfied: chardet<4,>=3.0.2 in /usr/local/lib/python3.7/dist-packages (from requests->flask-ngrok) (3.0.4)\n",
            "Requirement already satisfied: itsdangerous<2.0,>=0.24 in /usr/local/lib/python3.7/dist-packages (from Flask>=0.8->flask-ngrok) (1.1.0)\n",
            "Requirement already satisfied: click<8.0,>=5.1 in /usr/local/lib/python3.7/dist-packages (from Flask>=0.8->flask-ngrok) (7.1.2)\n",
            "Requirement already satisfied: Werkzeug<2.0,>=0.15 in /usr/local/lib/python3.7/dist-packages (from Flask>=0.8->flask-ngrok) (1.0.1)\n",
            "Requirement already satisfied: Jinja2<3.0,>=2.10.1 in /usr/local/lib/python3.7/dist-packages (from Flask>=0.8->flask-ngrok) (2.11.3)\n",
            "Requirement already satisfied: MarkupSafe>=0.23 in /usr/local/lib/python3.7/dist-packages (from Jinja2<3.0,>=2.10.1->Flask>=0.8->flask-ngrok) (2.0.1)\n"
          ],
          "name": "stdout"
        }
      ]
    },
    {
      "cell_type": "code",
      "metadata": {
        "colab": {
          "base_uri": "https://localhost:8080/"
        },
        "id": "EILD5jjPbqTN",
        "outputId": "7704e418-a6f3-4755-9462-ae28f8e7a635"
      },
      "source": [
        "!pip install rake-nltk"
      ],
      "execution_count": null,
      "outputs": [
        {
          "output_type": "stream",
          "text": [
            "Requirement already satisfied: rake-nltk in /usr/local/lib/python3.7/dist-packages (1.0.4)\n",
            "Requirement already satisfied: nltk in /usr/local/lib/python3.7/dist-packages (from rake-nltk) (3.2.5)\n",
            "Requirement already satisfied: six in /usr/local/lib/python3.7/dist-packages (from nltk->rake-nltk) (1.15.0)\n"
          ],
          "name": "stdout"
        }
      ]
    },
    {
      "cell_type": "code",
      "metadata": {
        "colab": {
          "base_uri": "https://localhost:8080/"
        },
        "id": "d5MueSeXZsGH",
        "outputId": "60a62667-86af-411e-fd1c-955541642dd7"
      },
      "source": [
        "import flask\n",
        "import werkzeug\n",
        "import keras.models\n",
        "import numpy\n",
        "import scipy.misc\n",
        "import imageio\n",
        "import cv2\n",
        "from flask_ngrok import run_with_ngrok\n",
        "import numpy as np\n",
        "import pandas as pd\n",
        "from rake_nltk import Rake\n",
        "from sklearn.metrics.pairwise import cosine_similarity\n",
        "from sklearn.feature_extraction.text import CountVectorizer\n",
        "from collections import defaultdict\n",
        "\n",
        "\n",
        "app = flask.Flask(__name__)\n",
        "run_with_ngrok(app)\n",
        "\n",
        "\n",
        "@app.route('/', methods=['GET', 'POST'])\n",
        "def handle_request():\n",
        "    movie = flask.request.args.get('movie')\n",
        "    rec_dict = defaultdict(list)\n",
        "    df = pd.read_csv('https://query.data.world/s/uikepcpffyo2nhig52xxeevdialfl7')\n",
        "\n",
        "    df = df[['Title','Genre','Director','Actors','Plot']]\n",
        "    # discarding the commas between the actors' full names and getting only the first three names\n",
        "    df['Actors'] = df['Actors'].map(lambda x: x.split(',')[:3])\n",
        "\n",
        "    # putting the genres in a list of words\n",
        "    df['Genre'] = df['Genre'].map(lambda x: x.lower().split(','))\n",
        "\n",
        "    df['Director'] = df['Director'].map(lambda x: x.split(' '))\n",
        "\n",
        "    # merging together first and last name for each actor and director, so it's considered as one word \n",
        "    # and there is no mix up between people sharing a first name\n",
        "    for index, row in df.iterrows():\n",
        "        row['Actors'] = [x.lower().replace(' ','') for x in row['Actors']]\n",
        "        row['Director'] = ''.join(row['Director']).lower()\n",
        "    # initializing the new column\n",
        "    df['Key_words'] = \"\"\n",
        "\n",
        "    for index, row in df.iterrows():\n",
        "        plot = row['Plot']\n",
        "    \n",
        "        # instantiating Rake, by default is uses english stopwords from NLTK\n",
        "        # and discard all puntuation characters\n",
        "        r = Rake()\n",
        "\n",
        "        # extracting the words by passing the text\n",
        "        r.extract_keywords_from_text(plot)\n",
        "\n",
        "        # getting the dictionary whith key words and their scores\n",
        "        key_words_dict_scores = r.get_word_degrees()\n",
        "    \n",
        "        # assigning the key words to the new column\n",
        "        row['Key_words'] = list(key_words_dict_scores.keys())\n",
        "    # dropping the Plot column\n",
        "    df.drop(columns = ['Plot'], inplace = True)\n",
        "    df.set_index('Title', inplace = True)\n",
        "    df['bag_of_words'] = ''\n",
        "    columns = df.columns\n",
        "    for index, row in df.iterrows():\n",
        "        words = ''\n",
        "        for col in columns:\n",
        "            if col != 'Director':\n",
        "                words = words + ' '.join(row[col])+ ' '\n",
        "            else:\n",
        "                words = words + row[col]+ ' '\n",
        "        row['bag_of_words'] = words\n",
        "    \n",
        "    df.drop(columns = [col for col in df.columns if col!= 'bag_of_words'], inplace = True)\n",
        "    count = CountVectorizer()\n",
        "    count_matrix = count.fit_transform(df['bag_of_words'])\n",
        "\n",
        "    # creating a Series for the movie titles so they are associated to an ordered numerical\n",
        "    # list I will use later to match the indexes\n",
        "    indices = pd.Series(df.index)\n",
        "    indices[:5]\n",
        "    cosine_sim = cosine_similarity(count_matrix, count_matrix)\n",
        "    recommended_movies = []\n",
        "    rec = \"\"\n",
        "    \n",
        "    # gettin the index of the movie that matches the title\n",
        "    idx = indices[indices == movie].index[0]\n",
        "\n",
        "    # creating a Series with the similarity scores in descending order\n",
        "    score_series = pd.Series(cosine_sim[idx]).sort_values(ascending = False)\n",
        "\n",
        "    # getting the indexes of the 10 most similar movies\n",
        "    top_10_indexes = list(score_series.iloc[1:11].index)\n",
        "    \n",
        "    # populating the list with the titles of the best 10 matching movies\n",
        "    for i in top_10_indexes:\n",
        "        recommended_movies.append(list(df.index)[i])\n",
        "    for s in recommended_movies:\n",
        "        rec = rec+\"^\"+s\n",
        "    rec = rec[1:]\n",
        "\n",
        "    return rec\n",
        "    \n",
        "    \n",
        "app.run()"
      ],
      "execution_count": null,
      "outputs": [
        {
          "output_type": "stream",
          "text": [
            " * Serving Flask app \"__main__\" (lazy loading)\n",
            " * Environment: production\n",
            "\u001b[31m   WARNING: This is a development server. Do not use it in a production deployment.\u001b[0m\n",
            "\u001b[2m   Use a production WSGI server instead.\u001b[0m\n",
            " * Debug mode: off\n"
          ],
          "name": "stdout"
        },
        {
          "output_type": "stream",
          "text": [
            " * Running on http://127.0.0.1:5000/ (Press CTRL+C to quit)\n"
          ],
          "name": "stderr"
        },
        {
          "output_type": "stream",
          "text": [
            " * Running on http://b2166ac6caad.ngrok.io\n",
            " * Traffic stats available on http://127.0.0.1:4040\n"
          ],
          "name": "stdout"
        },
        {
          "output_type": "stream",
          "text": [
            "127.0.0.1 - - [07/Jun/2021 07:35:36] \"\u001b[37mGET /?movie=The%20Lion%20King HTTP/1.1\u001b[0m\" 200 -\n"
          ],
          "name": "stderr"
        }
      ]
    },
    {
      "cell_type": "code",
      "metadata": {
        "id": "rN054ZeyZsGH"
      },
      "source": [
        ""
      ],
      "execution_count": null,
      "outputs": []
    }
  ]
}